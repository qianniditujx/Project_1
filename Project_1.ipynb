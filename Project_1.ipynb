{
 "cells": [
  {
   "cell_type": "markdown",
   "id": "450fa050",
   "metadata": {},
   "source": [
    "# Analysis of Buffalo 311 Service Call\n",
    "\n",
    "### Sections\n",
    "- [Require Data from OpenData Buffalo and Save to Local](#require_data_from_opendata_buffalo_and_save_to_local)\n",
    "- [Acquire Data from Local, Cleaning and PDA](#acquire_data_from_local_cleaning_and_PDA)\n",
    "- [Histogram for Hourly and Monthly Frenquency of Type Selected](#histogram_for_hourly_and_monthly_frenquency_of_type_selected)\n",
    "- [Combine Multiple Datasets](#combin_multiple_datasets)\n",
    "- [Histogram of Service Request under Differert Level of Employment Rate](#histogram_of_service_request_under_different_level_of_employment_rate)"
   ]
  },
  {
   "cell_type": "code",
   "execution_count": null,
   "id": "9e049082",
   "metadata": {},
   "outputs": [],
   "source": []
  },
  {
   "cell_type": "code",
   "execution_count": 1,
   "id": "434544c7",
   "metadata": {},
   "outputs": [],
   "source": [
    "import pandas as pd\n",
    "import matplotlib.pyplot as plt\n",
    "import requests"
   ]
  },
  {
   "cell_type": "code",
   "execution_count": 2,
   "id": "2710c554",
   "metadata": {},
   "outputs": [],
   "source": []
  },
  {
   "cell_type": "markdown",
   "id": "91ff4e1e",
   "metadata": {},
   "source": [
    "# Require Data from OpenData Buffalo and Save to Local\n",
    "<a id='require_data_from_opendata_buffalo_and_save_to_local'></a>"
   ]
  },
  {
   "cell_type": "code",
   "execution_count": 2,
   "id": "da25f37f",
   "metadata": {},
   "outputs": [
    {
     "data": {
      "text/plain": [
       "<Response [200]>"
      ]
     },
     "execution_count": 2,
     "metadata": {},
     "output_type": "execute_result"
    }
   ],
   "source": [
    "#check status\n",
    "url = \"https://data.buffalony.gov/resource/whkc-e5vr.json\"\n",
    "response = requests.get(url)\n",
    "response.raise_for_status()\n",
    "response\n"
   ]
  },
  {
   "cell_type": "code",
   "execution_count": 3,
   "id": "06d16744",
   "metadata": {},
   "outputs": [
    {
     "name": "stdout",
     "output_type": "stream",
     "text": [
      "['case_reference', 'open_date', 'closed_date', 'status', 'subject', 'reason', 'type', 'object_type', 'address_number', 'address_line_1', 'city', 'state', 'zip_code', 'property_id', 'location', 'latitude', 'longitude', 'council_district', 'police_district', 'census_tract', 'census_block_group', 'census_block', 'neighborhood', 'x_coordinate', 'y_coordinate', 'census_tract_2010', 'census_block_group_2010', 'census_block_2010', 'tractce20', 'geoid20_tract', 'geoid20_blockgroup', 'geoid20_block', ':@computed_region_fk4y_hpmh', ':@computed_region_kwzn_pe6v', ':@computed_region_uh5x_q5mi', ':@computed_region_dwzh_dtk5', ':@computed_region_tmcg_v66k', ':@computed_region_xbxg_7ifr', ':@computed_region_eziv_p4ck', ':@computed_region_jdfw_hhbp', ':@computed_region_urdz_b6n8', ':@computed_region_vsen_jbmg', ':@computed_region_nmyf_6jtp', ':@computed_region_ff6v_jbaa', ':@computed_region_gkva_sjqs', ':@computed_region_h7a8_iwt4', 'address_line_2', ':@computed_region_k9un_h6vm']\n"
     ]
    }
   ],
   "source": [
    "# Print headers.\n",
    "data = response.json()\n",
    "df = pd.DataFrame(data)\n",
    "header_list = list(df.columns)\n",
    "print(header_list)\n"
   ]
  },
  {
   "cell_type": "code",
   "execution_count": 5,
   "id": "017de93c",
   "metadata": {},
   "outputs": [
    {
     "data": {
      "text/html": [
       "<div>\n",
       "<style scoped>\n",
       "    .dataframe tbody tr th:only-of-type {\n",
       "        vertical-align: middle;\n",
       "    }\n",
       "\n",
       "    .dataframe tbody tr th {\n",
       "        vertical-align: top;\n",
       "    }\n",
       "\n",
       "    .dataframe thead th {\n",
       "        text-align: right;\n",
       "    }\n",
       "</style>\n",
       "<table border=\"1\" class=\"dataframe\">\n",
       "  <thead>\n",
       "    <tr style=\"text-align: right;\">\n",
       "      <th></th>\n",
       "      <th>case_reference</th>\n",
       "      <th>open_date</th>\n",
       "      <th>closed_date</th>\n",
       "      <th>status</th>\n",
       "      <th>subject</th>\n",
       "      <th>reason</th>\n",
       "      <th>type</th>\n",
       "      <th>object_type</th>\n",
       "      <th>address_number</th>\n",
       "      <th>address_line_1</th>\n",
       "      <th>...</th>\n",
       "      <th>:@computed_region_eziv_p4ck</th>\n",
       "      <th>:@computed_region_jdfw_hhbp</th>\n",
       "      <th>:@computed_region_urdz_b6n8</th>\n",
       "      <th>:@computed_region_vsen_jbmg</th>\n",
       "      <th>:@computed_region_nmyf_6jtp</th>\n",
       "      <th>:@computed_region_ff6v_jbaa</th>\n",
       "      <th>:@computed_region_gkva_sjqs</th>\n",
       "      <th>:@computed_region_h7a8_iwt4</th>\n",
       "      <th>address_line_2</th>\n",
       "      <th>:@computed_region_k9un_h6vm</th>\n",
       "    </tr>\n",
       "  </thead>\n",
       "  <tbody>\n",
       "    <tr>\n",
       "      <th>0</th>\n",
       "      <td>509589-1001799765</td>\n",
       "      <td>2023-02-12T12:00:00.000</td>\n",
       "      <td>2023-02-25T10:39:00.000</td>\n",
       "      <td>Closed</td>\n",
       "      <td>DPIS</td>\n",
       "      <td>Housing</td>\n",
       "      <td>Open311 Housing</td>\n",
       "      <td>Property</td>\n",
       "      <td>86</td>\n",
       "      <td>AUSTIN</td>\n",
       "      <td>...</td>\n",
       "      <td>72</td>\n",
       "      <td>18</td>\n",
       "      <td>1</td>\n",
       "      <td>2</td>\n",
       "      <td>26</td>\n",
       "      <td>88</td>\n",
       "      <td>277</td>\n",
       "      <td>10</td>\n",
       "      <td>NaN</td>\n",
       "      <td>NaN</td>\n",
       "    </tr>\n",
       "    <tr>\n",
       "      <th>1</th>\n",
       "      <td>508695-1001788285</td>\n",
       "      <td>2023-02-05T20:15:00.000</td>\n",
       "      <td>2023-02-15T08:38:00.000</td>\n",
       "      <td>Closed</td>\n",
       "      <td>Utilities</td>\n",
       "      <td>National Grid</td>\n",
       "      <td>Streetlights (Req_Serv)</td>\n",
       "      <td>Property</td>\n",
       "      <td>16</td>\n",
       "      <td>LOMBARD</td>\n",
       "      <td>...</td>\n",
       "      <td>34</td>\n",
       "      <td>8</td>\n",
       "      <td>10</td>\n",
       "      <td>1</td>\n",
       "      <td>35</td>\n",
       "      <td>75</td>\n",
       "      <td>245</td>\n",
       "      <td>2</td>\n",
       "      <td>NaN</td>\n",
       "      <td>NaN</td>\n",
       "    </tr>\n",
       "    <tr>\n",
       "      <th>2</th>\n",
       "      <td>1001774631</td>\n",
       "      <td>2023-01-17T09:27:00.000</td>\n",
       "      <td>2023-01-18T15:20:00.000</td>\n",
       "      <td>Closed</td>\n",
       "      <td>Dept of Public Works</td>\n",
       "      <td>Engineering - Street Repairs</td>\n",
       "      <td>Pot Hole (Req_Serv)</td>\n",
       "      <td>Property</td>\n",
       "      <td>INTERSECTION</td>\n",
       "      <td>Best St</td>\n",
       "      <td>...</td>\n",
       "      <td>4</td>\n",
       "      <td>17</td>\n",
       "      <td>10</td>\n",
       "      <td>1</td>\n",
       "      <td>29</td>\n",
       "      <td>24</td>\n",
       "      <td>29</td>\n",
       "      <td>2</td>\n",
       "      <td>Fillmore Ave</td>\n",
       "      <td>NaN</td>\n",
       "    </tr>\n",
       "    <tr>\n",
       "      <th>3</th>\n",
       "      <td>1001764214</td>\n",
       "      <td>2023-01-12T14:40:00.000</td>\n",
       "      <td>2023-01-13T09:53:00.000</td>\n",
       "      <td>Closed</td>\n",
       "      <td>Dept of Parking</td>\n",
       "      <td>Moving Violations</td>\n",
       "      <td>Buffalo Traffic Violations (Req_Serv)</td>\n",
       "      <td>Property</td>\n",
       "      <td>65</td>\n",
       "      <td>NIAGARA SQ</td>\n",
       "      <td>...</td>\n",
       "      <td>77</td>\n",
       "      <td>19</td>\n",
       "      <td>9</td>\n",
       "      <td>5</td>\n",
       "      <td>16</td>\n",
       "      <td>80</td>\n",
       "      <td>265</td>\n",
       "      <td>4</td>\n",
       "      <td>NaN</td>\n",
       "      <td>9</td>\n",
       "    </tr>\n",
       "    <tr>\n",
       "      <th>4</th>\n",
       "      <td>1001786969</td>\n",
       "      <td>2023-01-27T13:57:00.000</td>\n",
       "      <td>2023-01-30T22:05:00.000</td>\n",
       "      <td>Closed</td>\n",
       "      <td>Dept of Public Works</td>\n",
       "      <td>Forestry</td>\n",
       "      <td>Fallen Tree Blocking RoW (Req_Serv)</td>\n",
       "      <td>Property</td>\n",
       "      <td>185</td>\n",
       "      <td>BURGARD</td>\n",
       "      <td>...</td>\n",
       "      <td>15</td>\n",
       "      <td>17</td>\n",
       "      <td>8</td>\n",
       "      <td>1</td>\n",
       "      <td>24</td>\n",
       "      <td>28</td>\n",
       "      <td>209</td>\n",
       "      <td>5</td>\n",
       "      <td>NaN</td>\n",
       "      <td>NaN</td>\n",
       "    </tr>\n",
       "  </tbody>\n",
       "</table>\n",
       "<p>5 rows × 48 columns</p>\n",
       "</div>"
      ],
      "text/plain": [
       "      case_reference                open_date              closed_date  \\\n",
       "0  509589-1001799765  2023-02-12T12:00:00.000  2023-02-25T10:39:00.000   \n",
       "1  508695-1001788285  2023-02-05T20:15:00.000  2023-02-15T08:38:00.000   \n",
       "2         1001774631  2023-01-17T09:27:00.000  2023-01-18T15:20:00.000   \n",
       "3         1001764214  2023-01-12T14:40:00.000  2023-01-13T09:53:00.000   \n",
       "4         1001786969  2023-01-27T13:57:00.000  2023-01-30T22:05:00.000   \n",
       "\n",
       "   status               subject                        reason  \\\n",
       "0  Closed                  DPIS                       Housing   \n",
       "1  Closed             Utilities                 National Grid   \n",
       "2  Closed  Dept of Public Works  Engineering - Street Repairs   \n",
       "3  Closed       Dept of Parking             Moving Violations   \n",
       "4  Closed  Dept of Public Works                      Forestry   \n",
       "\n",
       "                                    type object_type address_number  \\\n",
       "0                        Open311 Housing    Property             86   \n",
       "1                Streetlights (Req_Serv)    Property             16   \n",
       "2                    Pot Hole (Req_Serv)    Property   INTERSECTION   \n",
       "3  Buffalo Traffic Violations (Req_Serv)    Property             65   \n",
       "4    Fallen Tree Blocking RoW (Req_Serv)    Property            185   \n",
       "\n",
       "  address_line_1  ... :@computed_region_eziv_p4ck :@computed_region_jdfw_hhbp  \\\n",
       "0         AUSTIN  ...                          72                          18   \n",
       "1        LOMBARD  ...                          34                           8   \n",
       "2        Best St  ...                           4                          17   \n",
       "3     NIAGARA SQ  ...                          77                          19   \n",
       "4        BURGARD  ...                          15                          17   \n",
       "\n",
       "  :@computed_region_urdz_b6n8 :@computed_region_vsen_jbmg  \\\n",
       "0                           1                           2   \n",
       "1                          10                           1   \n",
       "2                          10                           1   \n",
       "3                           9                           5   \n",
       "4                           8                           1   \n",
       "\n",
       "  :@computed_region_nmyf_6jtp :@computed_region_ff6v_jbaa  \\\n",
       "0                          26                          88   \n",
       "1                          35                          75   \n",
       "2                          29                          24   \n",
       "3                          16                          80   \n",
       "4                          24                          28   \n",
       "\n",
       "  :@computed_region_gkva_sjqs :@computed_region_h7a8_iwt4 address_line_2  \\\n",
       "0                         277                          10            NaN   \n",
       "1                         245                           2            NaN   \n",
       "2                          29                           2   Fillmore Ave   \n",
       "3                         265                           4            NaN   \n",
       "4                         209                           5            NaN   \n",
       "\n",
       "  :@computed_region_k9un_h6vm  \n",
       "0                         NaN  \n",
       "1                         NaN  \n",
       "2                         NaN  \n",
       "3                           9  \n",
       "4                         NaN  \n",
       "\n",
       "[5 rows x 48 columns]"
      ]
     },
     "execution_count": 5,
     "metadata": {},
     "output_type": "execute_result"
    }
   ],
   "source": [
    "df.head()"
   ]
  },
  {
   "cell_type": "code",
   "execution_count": 6,
   "id": "7b4e92ef",
   "metadata": {},
   "outputs": [],
   "source": [
    "#write dataframe to csv\n",
    "df.to_csv(\"data/311_service_call.csv\",index=False)"
   ]
  },
  {
   "cell_type": "markdown",
   "id": "d3e41b16",
   "metadata": {},
   "source": [
    "# Acquire Data from Local, Cleaning and PDA\n",
    "<a id='acquire_data_from_local_cleaning_and_PDA'></a>"
   ]
  },
  {
   "cell_type": "code",
   "execution_count": 4,
   "id": "8ada6b52",
   "metadata": {},
   "outputs": [
    {
     "data": {
      "text/html": [
       "<div>\n",
       "<style scoped>\n",
       "    .dataframe tbody tr th:only-of-type {\n",
       "        vertical-align: middle;\n",
       "    }\n",
       "\n",
       "    .dataframe tbody tr th {\n",
       "        vertical-align: top;\n",
       "    }\n",
       "\n",
       "    .dataframe thead th {\n",
       "        text-align: right;\n",
       "    }\n",
       "</style>\n",
       "<table border=\"1\" class=\"dataframe\">\n",
       "  <thead>\n",
       "    <tr style=\"text-align: right;\">\n",
       "      <th></th>\n",
       "      <th>case_reference</th>\n",
       "      <th>open_date</th>\n",
       "      <th>closed_date</th>\n",
       "      <th>status</th>\n",
       "      <th>subject</th>\n",
       "      <th>reason</th>\n",
       "      <th>type</th>\n",
       "      <th>object_type</th>\n",
       "      <th>address_number</th>\n",
       "      <th>address_line_1</th>\n",
       "      <th>...</th>\n",
       "      <th>:@computed_region_eziv_p4ck</th>\n",
       "      <th>:@computed_region_jdfw_hhbp</th>\n",
       "      <th>:@computed_region_urdz_b6n8</th>\n",
       "      <th>:@computed_region_vsen_jbmg</th>\n",
       "      <th>:@computed_region_nmyf_6jtp</th>\n",
       "      <th>:@computed_region_ff6v_jbaa</th>\n",
       "      <th>:@computed_region_gkva_sjqs</th>\n",
       "      <th>:@computed_region_h7a8_iwt4</th>\n",
       "      <th>address_line_2</th>\n",
       "      <th>:@computed_region_k9un_h6vm</th>\n",
       "    </tr>\n",
       "  </thead>\n",
       "  <tbody>\n",
       "    <tr>\n",
       "      <th>0</th>\n",
       "      <td>509589-1001799765</td>\n",
       "      <td>2023-02-12T12:00:00.000</td>\n",
       "      <td>2023-02-25T10:39:00.000</td>\n",
       "      <td>Closed</td>\n",
       "      <td>DPIS</td>\n",
       "      <td>Housing</td>\n",
       "      <td>Open311 Housing</td>\n",
       "      <td>Property</td>\n",
       "      <td>86</td>\n",
       "      <td>AUSTIN</td>\n",
       "      <td>...</td>\n",
       "      <td>72.0</td>\n",
       "      <td>18.0</td>\n",
       "      <td>1.0</td>\n",
       "      <td>2.0</td>\n",
       "      <td>26.0</td>\n",
       "      <td>88.0</td>\n",
       "      <td>277.0</td>\n",
       "      <td>10.0</td>\n",
       "      <td>NaN</td>\n",
       "      <td>NaN</td>\n",
       "    </tr>\n",
       "    <tr>\n",
       "      <th>1</th>\n",
       "      <td>508695-1001788285</td>\n",
       "      <td>2023-02-05T20:15:00.000</td>\n",
       "      <td>2023-02-15T08:38:00.000</td>\n",
       "      <td>Closed</td>\n",
       "      <td>Utilities</td>\n",
       "      <td>National Grid</td>\n",
       "      <td>Streetlights (Req_Serv)</td>\n",
       "      <td>Property</td>\n",
       "      <td>16</td>\n",
       "      <td>LOMBARD</td>\n",
       "      <td>...</td>\n",
       "      <td>34.0</td>\n",
       "      <td>8.0</td>\n",
       "      <td>10.0</td>\n",
       "      <td>1.0</td>\n",
       "      <td>35.0</td>\n",
       "      <td>75.0</td>\n",
       "      <td>245.0</td>\n",
       "      <td>2.0</td>\n",
       "      <td>NaN</td>\n",
       "      <td>NaN</td>\n",
       "    </tr>\n",
       "    <tr>\n",
       "      <th>2</th>\n",
       "      <td>1001774631</td>\n",
       "      <td>2023-01-17T09:27:00.000</td>\n",
       "      <td>2023-01-18T15:20:00.000</td>\n",
       "      <td>Closed</td>\n",
       "      <td>Dept of Public Works</td>\n",
       "      <td>Engineering - Street Repairs</td>\n",
       "      <td>Pot Hole (Req_Serv)</td>\n",
       "      <td>Property</td>\n",
       "      <td>INTERSECTION</td>\n",
       "      <td>Best St</td>\n",
       "      <td>...</td>\n",
       "      <td>4.0</td>\n",
       "      <td>17.0</td>\n",
       "      <td>10.0</td>\n",
       "      <td>1.0</td>\n",
       "      <td>29.0</td>\n",
       "      <td>24.0</td>\n",
       "      <td>29.0</td>\n",
       "      <td>2.0</td>\n",
       "      <td>Fillmore Ave</td>\n",
       "      <td>NaN</td>\n",
       "    </tr>\n",
       "    <tr>\n",
       "      <th>3</th>\n",
       "      <td>1001764214</td>\n",
       "      <td>2023-01-12T14:40:00.000</td>\n",
       "      <td>2023-01-13T09:53:00.000</td>\n",
       "      <td>Closed</td>\n",
       "      <td>Dept of Parking</td>\n",
       "      <td>Moving Violations</td>\n",
       "      <td>Buffalo Traffic Violations (Req_Serv)</td>\n",
       "      <td>Property</td>\n",
       "      <td>65</td>\n",
       "      <td>NIAGARA SQ</td>\n",
       "      <td>...</td>\n",
       "      <td>77.0</td>\n",
       "      <td>19.0</td>\n",
       "      <td>9.0</td>\n",
       "      <td>5.0</td>\n",
       "      <td>16.0</td>\n",
       "      <td>80.0</td>\n",
       "      <td>265.0</td>\n",
       "      <td>4.0</td>\n",
       "      <td>NaN</td>\n",
       "      <td>9.0</td>\n",
       "    </tr>\n",
       "    <tr>\n",
       "      <th>4</th>\n",
       "      <td>1001786969</td>\n",
       "      <td>2023-01-27T13:57:00.000</td>\n",
       "      <td>2023-01-30T22:05:00.000</td>\n",
       "      <td>Closed</td>\n",
       "      <td>Dept of Public Works</td>\n",
       "      <td>Forestry</td>\n",
       "      <td>Fallen Tree Blocking RoW (Req_Serv)</td>\n",
       "      <td>Property</td>\n",
       "      <td>185</td>\n",
       "      <td>BURGARD</td>\n",
       "      <td>...</td>\n",
       "      <td>15.0</td>\n",
       "      <td>17.0</td>\n",
       "      <td>8.0</td>\n",
       "      <td>1.0</td>\n",
       "      <td>24.0</td>\n",
       "      <td>28.0</td>\n",
       "      <td>209.0</td>\n",
       "      <td>5.0</td>\n",
       "      <td>NaN</td>\n",
       "      <td>NaN</td>\n",
       "    </tr>\n",
       "  </tbody>\n",
       "</table>\n",
       "<p>5 rows × 48 columns</p>\n",
       "</div>"
      ],
      "text/plain": [
       "      case_reference                open_date              closed_date  \\\n",
       "0  509589-1001799765  2023-02-12T12:00:00.000  2023-02-25T10:39:00.000   \n",
       "1  508695-1001788285  2023-02-05T20:15:00.000  2023-02-15T08:38:00.000   \n",
       "2         1001774631  2023-01-17T09:27:00.000  2023-01-18T15:20:00.000   \n",
       "3         1001764214  2023-01-12T14:40:00.000  2023-01-13T09:53:00.000   \n",
       "4         1001786969  2023-01-27T13:57:00.000  2023-01-30T22:05:00.000   \n",
       "\n",
       "   status               subject                        reason  \\\n",
       "0  Closed                  DPIS                       Housing   \n",
       "1  Closed             Utilities                 National Grid   \n",
       "2  Closed  Dept of Public Works  Engineering - Street Repairs   \n",
       "3  Closed       Dept of Parking             Moving Violations   \n",
       "4  Closed  Dept of Public Works                      Forestry   \n",
       "\n",
       "                                    type object_type address_number  \\\n",
       "0                        Open311 Housing    Property             86   \n",
       "1                Streetlights (Req_Serv)    Property             16   \n",
       "2                    Pot Hole (Req_Serv)    Property   INTERSECTION   \n",
       "3  Buffalo Traffic Violations (Req_Serv)    Property             65   \n",
       "4    Fallen Tree Blocking RoW (Req_Serv)    Property            185   \n",
       "\n",
       "  address_line_1  ... :@computed_region_eziv_p4ck :@computed_region_jdfw_hhbp  \\\n",
       "0         AUSTIN  ...                        72.0                        18.0   \n",
       "1        LOMBARD  ...                        34.0                         8.0   \n",
       "2        Best St  ...                         4.0                        17.0   \n",
       "3     NIAGARA SQ  ...                        77.0                        19.0   \n",
       "4        BURGARD  ...                        15.0                        17.0   \n",
       "\n",
       "  :@computed_region_urdz_b6n8 :@computed_region_vsen_jbmg  \\\n",
       "0                         1.0                         2.0   \n",
       "1                        10.0                         1.0   \n",
       "2                        10.0                         1.0   \n",
       "3                         9.0                         5.0   \n",
       "4                         8.0                         1.0   \n",
       "\n",
       "  :@computed_region_nmyf_6jtp  :@computed_region_ff6v_jbaa  \\\n",
       "0                        26.0                         88.0   \n",
       "1                        35.0                         75.0   \n",
       "2                        29.0                         24.0   \n",
       "3                        16.0                         80.0   \n",
       "4                        24.0                         28.0   \n",
       "\n",
       "   :@computed_region_gkva_sjqs :@computed_region_h7a8_iwt4 address_line_2  \\\n",
       "0                        277.0                        10.0            NaN   \n",
       "1                        245.0                         2.0            NaN   \n",
       "2                         29.0                         2.0   Fillmore Ave   \n",
       "3                        265.0                         4.0            NaN   \n",
       "4                        209.0                         5.0            NaN   \n",
       "\n",
       "  :@computed_region_k9un_h6vm  \n",
       "0                         NaN  \n",
       "1                         NaN  \n",
       "2                         NaN  \n",
       "3                         9.0  \n",
       "4                         NaN  \n",
       "\n",
       "[5 rows x 48 columns]"
      ]
     },
     "execution_count": 4,
     "metadata": {},
     "output_type": "execute_result"
    }
   ],
   "source": [
    "#read in data from saved csv\n",
    "data = pd.read_csv(\"data/311_service_call.csv\")\n",
    "df = pd.DataFrame(data)\n",
    "df.head()"
   ]
  },
  {
   "cell_type": "code",
   "execution_count": null,
   "id": "d4b303d7",
   "metadata": {},
   "outputs": [],
   "source": []
  },
  {
   "cell_type": "code",
   "execution_count": 5,
   "id": "60ecff8c",
   "metadata": {},
   "outputs": [],
   "source": [
    "# Drop rows with missing values\n",
    "df.dropna(subset=['open_date','type'], inplace=True)"
   ]
  },
  {
   "cell_type": "code",
   "execution_count": 29,
   "id": "4ba7e6dd",
   "metadata": {},
   "outputs": [
    {
     "data": {
      "text/plain": [
       "reason                              type                                \n",
       "Adjudication - Ordinance Violation  Illegal Dumping (Req_Serv)               1\n",
       "Administration                      Fair Housing Issue (Req_Serv)            3\n",
       "Animal Shelter                      Animals (Req_Serv)                      33\n",
       "                                    Dead Animal Removal (Req_Serv)           7\n",
       "BFD                                 Fire (Req_Serv)                          1\n",
       "                                                                            ..\n",
       "Streets                             Street Salting (Req_Serv)               45\n",
       "                                    Street Snow Plowing (Req_Serv)          88\n",
       "                                    Street Snow Plowing Issue (Req_Serv)    20\n",
       "Streets/Sanitation                  Damage from Street Worker (Req_Serv)     6\n",
       "Taxation                            Taxation Issue (Req_Serv)                1\n",
       "Name: open_date, Length: 90, dtype: int64"
      ]
     },
     "execution_count": 29,
     "metadata": {},
     "output_type": "execute_result"
    }
   ],
   "source": [
    "#Count for different types\n",
    "df.groupby([\"reason\", \"type\"]).count()[\"open_date\"]"
   ]
  },
  {
   "cell_type": "code",
   "execution_count": 6,
   "id": "a2ad5336",
   "metadata": {},
   "outputs": [],
   "source": [
    "# The request type is n\n",
    "n=5"
   ]
  },
  {
   "cell_type": "code",
   "execution_count": 9,
   "id": "fb94e62b",
   "metadata": {},
   "outputs": [],
   "source": [
    "# Print(type_column)\n",
    "unique_types = df['type'].unique()\n",
    "type_req=unique_types[n]\n",
    "#print(unique_types)\n",
    "#print(type_req)"
   ]
  },
  {
   "cell_type": "code",
   "execution_count": 10,
   "id": "316c058a",
   "metadata": {},
   "outputs": [
    {
     "name": "stdout",
     "output_type": "stream",
     "text": [
      "['Open311 Housing' 'Streetlights (Req_Serv)' 'Pot Hole (Req_Serv)'\n",
      " 'Buffalo Traffic Violations (Req_Serv)'\n",
      " 'Fallen Tree Blocking RoW (Req_Serv)' 'Rodents (Req_Serv)'\n",
      " 'Housing Violations (Req_Serv)' 'Street Salting (Req_Serv)'\n",
      " 'Recycling Tote Replace (Req_Serv)' 'Street Snow Plowing (Req_Serv)'\n",
      " 'Totes Deliver (Req_Serv)' 'Garbage Missed Pick Up (Req_Serv)'\n",
      " 'Totes Replace (Req_Serv)' 'Leaves / Lawn Debris (Req_Serv)'\n",
      " 'Parking Issues (Req_Serv)' 'Sign Maintenance (Req_Serv)'\n",
      " 'FOIL Records EDPIS (Req_Serv)'\n",
      " 'Missed Pickup 2_Piece Large Trash (Req_Serv)' 'Tree Other (Req_Serv)'\n",
      " 'Police Issue (Req_Serv)' 'Water Tested (Req_Serv)'\n",
      " 'PVB Single Meter (Req_Serv)' 'Basement Flooding (Req_Serv)'\n",
      " 'Trash Ordinance Violation (Req_Serv)' 'BMHA Issue (Req_Serv)'\n",
      " 'Pest (Req_Serv)' 'Dead Animal Removal (Req_Serv)' 'Sewer (Req_Serv)'\n",
      " 'Cave In (Req_Serv)' 'Quality of Life Issue (Req_Serv)'\n",
      " 'Fire Hydrant Issue (Req_Serv)' 'Street Snow Plowing Issue (Req_Serv)'\n",
      " 'Illegal Dumping Street (Req_Serv)' 'Recycling Missed Pick Up (Req_Serv)'\n",
      " 'Electronic Waste (Req_Serv)' 'Totes Combo (Req_Serv)'\n",
      " 'Tree Trimming Request (Req_Serv)' 'Right of Way Issue (Req_Serv)'\n",
      " 'FOIL Records Police Dept (Req_Serv)' 'Recycling Tote Combo (Req_Serv)'\n",
      " 'Fallen Tree Inspection (Req_Serv)' 'Abandoned Vehicles (Req_Serv)'\n",
      " 'FOIL Records City Clerk (Req_Serv)' 'Tree Removal (Req_SERV)'\n",
      " 'Street Flooding (Req_Serv)' 'Stump Removal (Req_Serv)'\n",
      " 'Snow Removal Inspection (Req_Serv)' 'Animals (Req_Serv)'\n",
      " 'Damage from Street Worker (Req_Serv)' 'PW Vacant Lot (Req_Serv)'\n",
      " 'Recycling Tote Deliver (Req_Serv)' 'OSP Other Issue (Req_Serv)'\n",
      " 'Signal Out or Flashing (Req_Serv)' 'PW Missing Manhole Cover (Req_Serv)'\n",
      " 'Sign Hazards (Req_Serv)' 'Signal Timing Issue City (Req_Serv)'\n",
      " 'FOIL Records Human Resources (Req_Serv)' 'Fire (Req_Serv)'\n",
      " 'Water Issue (Req_Serv)' 'Boarding request (Req_Serv)'\n",
      " 'Paving (Req_Serv)' 'Illegal Dumping Curb (Req_Serv)'\n",
      " 'Totes Audit (Req_Serv)' 'User Fee (Req_Serv)'\n",
      " 'Taxation Issue (Req_Serv)' 'Damaged Street Light Pole (Req_Serv)'\n",
      " 'Fair Housing Issue (Req_Serv)' 'Sidewalks (Req_Serv)'\n",
      " 'PVB Mobile App Issue' 'Rain Barrels (Req_Serv)' 'Pest_Private Trap'\n",
      " 'Damage from Snow Removal (Req_Serv)' 'Totes Abandon Pickup (Req_Serv)'\n",
      " 'QRT Illegal Dumping on Viaduct (Req_Serv)'\n",
      " 'PW Ongoing Construction (Req_Serv)' 'FOIL Records Fire Dept (Req_Serv)'\n",
      " 'Other Hole in Road (Req_Serv)' 'PVB Pay Station (Req_Serv)'\n",
      " 'Totes Pickup (Req_Serv)' 'Basketball Hoop in RoW (Req_Serv)'\n",
      " 'Tree Trimming Quality Issue (Req_Serv)'\n",
      " 'Pavement Marking Lines (Req_Serv)' 'Tree Planting Request (Req_Serv)'\n",
      " 'Excess Trash (Req_Serv)' 'Tree Removal Quality Issue (Req_serv)'\n",
      " 'Illegal Dumping (Req_Serv)' 'Recycling - Escalated Questions (Req_Serv)'\n",
      " 'Illegal Dumping PrivateProperty (Req_Serv)'\n",
      " 'Recycling Tote Abandon Pickup (Req_Serv)' 'Christmas Tree (Req_Serv)']\n"
     ]
    }
   ],
   "source": [
    "print(unique_types)\n"
   ]
  },
  {
   "cell_type": "code",
   "execution_count": 11,
   "id": "a55b134e",
   "metadata": {},
   "outputs": [
    {
     "name": "stdout",
     "output_type": "stream",
     "text": [
      "Rodents (Req_Serv)\n"
     ]
    }
   ],
   "source": [
    "print(type_req)"
   ]
  },
  {
   "cell_type": "code",
   "execution_count": null,
   "id": "3165f19a",
   "metadata": {},
   "outputs": [],
   "source": []
  },
  {
   "cell_type": "code",
   "execution_count": 12,
   "id": "9b4bd4a7",
   "metadata": {},
   "outputs": [],
   "source": [
    "# Filter the data to only include requested data\n",
    "type_req_df = df[df[\"type\"] == type_req]"
   ]
  },
  {
   "cell_type": "code",
   "execution_count": null,
   "id": "d1644ce1",
   "metadata": {},
   "outputs": [],
   "source": []
  },
  {
   "cell_type": "code",
   "execution_count": 13,
   "id": "8af0d06c",
   "metadata": {},
   "outputs": [
    {
     "name": "stderr",
     "output_type": "stream",
     "text": [
      "<ipython-input-13-edacfdc32df9>:2: SettingWithCopyWarning: \n",
      "A value is trying to be set on a copy of a slice from a DataFrame.\n",
      "Try using .loc[row_indexer,col_indexer] = value instead\n",
      "\n",
      "See the caveats in the documentation: https://pandas.pydata.org/pandas-docs/stable/user_guide/indexing.html#returning-a-view-versus-a-copy\n",
      "  type_req_df[\"open_date\"] = pd.to_datetime(type_req_df[\"open_date\"])\n"
     ]
    }
   ],
   "source": [
    "# Convert the \"open_date\" column to a datetime data type\n",
    "type_req_df[\"open_date\"] = pd.to_datetime(type_req_df[\"open_date\"])"
   ]
  },
  {
   "cell_type": "code",
   "execution_count": null,
   "id": "45f21a2a",
   "metadata": {},
   "outputs": [],
   "source": []
  },
  {
   "cell_type": "code",
   "execution_count": 14,
   "id": "cd7ce3ce",
   "metadata": {},
   "outputs": [
    {
     "name": "stderr",
     "output_type": "stream",
     "text": [
      "<ipython-input-14-c28d2bcf3015>:2: SettingWithCopyWarning: \n",
      "A value is trying to be set on a copy of a slice from a DataFrame.\n",
      "Try using .loc[row_indexer,col_indexer] = value instead\n",
      "\n",
      "See the caveats in the documentation: https://pandas.pydata.org/pandas-docs/stable/user_guide/indexing.html#returning-a-view-versus-a-copy\n",
      "  type_req_df[\"hour\"] = type_req_df[\"open_date\"].dt.hour\n"
     ]
    }
   ],
   "source": [
    "# Create a new column for the hour of the day\n",
    "type_req_df[\"hour\"] = type_req_df[\"open_date\"].dt.hour"
   ]
  },
  {
   "cell_type": "code",
   "execution_count": null,
   "id": "f4623e52",
   "metadata": {},
   "outputs": [],
   "source": []
  },
  {
   "cell_type": "code",
   "execution_count": 15,
   "id": "ea556560",
   "metadata": {},
   "outputs": [
    {
     "name": "stderr",
     "output_type": "stream",
     "text": [
      "<ipython-input-15-263bd8ba4f89>:2: SettingWithCopyWarning: \n",
      "A value is trying to be set on a copy of a slice from a DataFrame.\n",
      "Try using .loc[row_indexer,col_indexer] = value instead\n",
      "\n",
      "See the caveats in the documentation: https://pandas.pydata.org/pandas-docs/stable/user_guide/indexing.html#returning-a-view-versus-a-copy\n",
      "  type_req_df[\"month\"] = type_req_df[\"open_date\"].dt.month\n"
     ]
    }
   ],
   "source": [
    "# Create a new column for the month of the year\n",
    "type_req_df[\"month\"] = type_req_df[\"open_date\"].dt.month"
   ]
  },
  {
   "cell_type": "markdown",
   "id": "9fe4ea8a",
   "metadata": {},
   "source": [
    "# Histogram for Hourly and Monthly Frenquency of Type Selected\n",
    "<a id='histogram_for_hourly_and_monthly_frenquency_of_type_selected'></a>"
   ]
  },
  {
   "cell_type": "code",
   "execution_count": 16,
   "id": "13c1432c",
   "metadata": {},
   "outputs": [
    {
     "data": {
      "image/png": "[encoded data removed]",
      "text/plain": [
       "<Figure size 720x360 with 2 Axes>"
      ]
     },
     "metadata": {
      "needs_background": "light"
     },
     "output_type": "display_data"
    }
   ],
   "source": [
    "# Create two subplots, one for the hourly frequency and one for the monthly frequency\n",
    "fig, (ax1, ax2) = plt.subplots(nrows=1, ncols=2, figsize=(10, 5))"
   ]
  },
  {
   "cell_type": "code",
   "execution_count": null,
   "id": "1e4b8a51",
   "metadata": {},
   "outputs": [],
   "source": []
  },
  {
   "cell_type": "code",
   "execution_count": 17,
   "id": "77f38102",
   "metadata": {},
   "outputs": [
    {
     "data": {
      "text/plain": [
       "Text(0.5, 1.0, 'Hourly Frequency of Rodents (Req_Serv)')"
      ]
     },
     "execution_count": 17,
     "metadata": {},
     "output_type": "execute_result"
    },
    {
     "data": {
      "image/png": "[encoded data removed]",
      "text/plain": [
       "<Figure size 432x288 with 1 Axes>"
      ]
     },
     "metadata": {
      "needs_background": "light"
     },
     "output_type": "display_data"
    }
   ],
   "source": [
    "# Create a histogram of the hourly frequency of type_req\n",
    "plt.subplot(1, 2, 1)\n",
    "plt.hist(type_req_df['hour'], bins=24, edgecolor='blue')\n",
    "plt.xlabel('Hour')\n",
    "plt.ylabel('Frequency')\n",
    "plt.title('Hourly Frequency of ' + type_req)"
   ]
  },
  {
   "cell_type": "code",
   "execution_count": null,
   "id": "bfd21622",
   "metadata": {},
   "outputs": [],
   "source": []
  },
  {
   "cell_type": "code",
   "execution_count": 18,
   "id": "d284cb18",
   "metadata": {},
   "outputs": [
    {
     "data": {
      "text/plain": [
       "Text(0.5, 1.0, 'Monthly Frequency of Rodents (Req_Serv)')"
      ]
     },
     "execution_count": 18,
     "metadata": {},
     "output_type": "execute_result"
    },
    {
     "data": {
      "image/png": "[encoded data removed]",
      "text/plain": [
       "<Figure size 432x288 with 1 Axes>"
      ]
     },
     "metadata": {
      "needs_background": "light"
     },
     "output_type": "display_data"
    }
   ],
   "source": [
    "# Create a histogram of the monthly frequency of type_req\n",
    "plt.subplot(1, 2, 2)\n",
    "plt.hist(type_req_df['month'], bins=12, edgecolor='black')\n",
    "plt.xlabel('Month')\n",
    "plt.xticks(rotation=45)\n",
    "plt.ylabel('Frequency')\n",
    "plt.title('Monthly Frequency of ' + type_req)"
   ]
  },
  {
   "cell_type": "code",
   "execution_count": null,
   "id": "d3ca63e5",
   "metadata": {},
   "outputs": [],
   "source": []
  },
  {
   "cell_type": "code",
   "execution_count": 19,
   "id": "0240c260",
   "metadata": {},
   "outputs": [
    {
     "data": {
      "text/plain": [
       "<Figure size 432x288 with 0 Axes>"
      ]
     },
     "metadata": {},
     "output_type": "display_data"
    }
   ],
   "source": [
    "# Show the figure\n",
    "plt.tight_layout()\n",
    "plt.show()"
   ]
  },
  {
   "cell_type": "markdown",
   "id": "d97ca1ee",
   "metadata": {},
   "source": [
    "The request for Rodents has a peak in September to November within morning hours"
   ]
  },
  {
   "cell_type": "code",
   "execution_count": null,
   "id": "93584894",
   "metadata": {},
   "outputs": [],
   "source": []
  },
  {
   "cell_type": "markdown",
   "id": "fcbb5c16",
   "metadata": {},
   "source": [
    "# Combine Multiple Datasets\n",
    "<a id='combin_multiple_datasets'></a>"
   ]
  },
  {
   "cell_type": "code",
   "execution_count": 20,
   "id": "f013c2a2",
   "metadata": {},
   "outputs": [],
   "source": [
    "ur2 = \"https://data.buffalony.gov/resource/adai-75jt.json\"\n",
    "response2 = requests.get(ur2)\n",
    "data2 = response2.json()\n",
    "df2 = pd.DataFrame(data2)\n",
    "header_list2 = list(df2.columns)\n",
    "#print(header_list2)"
   ]
  },
  {
   "cell_type": "code",
   "execution_count": 21,
   "id": "7512ec3f",
   "metadata": {},
   "outputs": [],
   "source": [
    "# Line the two tables and perform a statistical analysis\n",
    "url = \"https://data.buffalony.gov/resource/whkc-e5vr.json\"\n",
    "ur2 = \"https://data.buffalony.gov/resource/adai-75jt.json\""
   ]
  },
  {
   "cell_type": "code",
   "execution_count": 22,
   "id": "15cf78f0",
   "metadata": {},
   "outputs": [],
   "source": [
    "# Read in the data from the URLs\n",
    "df1 = pd.read_json(url)\n",
    "df2 = pd.read_json(ur2)"
   ]
  },
  {
   "cell_type": "code",
   "execution_count": 23,
   "id": "ae4169c1",
   "metadata": {},
   "outputs": [],
   "source": [
    "# Merge the two dataframes on the \"neighborhood\" column\n",
    "merged_df = pd.merge(df1, df2[['neighborhood', 'employment_rate']], on='neighborhood')"
   ]
  },
  {
   "cell_type": "markdown",
   "id": "29e6732c",
   "metadata": {},
   "source": [
    "# Histogram of Service Request under Differert Level of Employment Rate\n",
    "<a id='histogram_of_service_request_under_different_level_of_employment_rate'></a>"
   ]
  },
  {
   "cell_type": "code",
   "execution_count": 24,
   "id": "cd794fc4",
   "metadata": {
    "scrolled": true
   },
   "outputs": [
    {
     "data": {
      "image/png": "[encoded data removed]",
      "text/plain": [
       "<Figure size 432x288 with 1 Axes>"
      ]
     },
     "metadata": {
      "needs_background": "light"
     },
     "output_type": "display_data"
    }
   ],
   "source": [
    "# Create a histogram of the employment rates\n",
    "plt.hist(merged_df['employment_rate'], bins=10, rwidth=0.8, edgecolor='black')\n",
    "plt.xlabel('Employment Rate')\n",
    "plt.ylabel('Frequency')\n",
    "plt.title('Service request for different employment rates')\n",
    "plt.show()"
   ]
  },
  {
   "cell_type": "markdown",
   "id": "05133395",
   "metadata": {},
   "source": [
    "In genernal, number of service requests in crease while employment rate grows"
   ]
  },
  {
   "cell_type": "code",
   "execution_count": null,
   "id": "5f414f7e",
   "metadata": {},
   "outputs": [],
   "source": []
  }
 ],
 "metadata": {
  "kernelspec": {
   "display_name": "Python 3",
   "language": "python",
   "name": "python3"
  },
  "language_info": {
   "codemirror_mode": {
    "name": "ipython",
    "version": 3
   },
   "file_extension": ".py",
   "mimetype": "text/x-python",
   "name": "python",
   "nbconvert_exporter": "python",
   "pygments_lexer": "ipython3",
   "version": "3.8.8"
  }
 },
 "nbformat": 4,
 "nbformat_minor": 5
}
